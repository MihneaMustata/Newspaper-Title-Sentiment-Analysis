{
 "cells": [
  {
   "cell_type": "markdown",
   "id": "3076e279",
   "metadata": {},
   "source": [
    "# Loading Model"
   ]
  },
  {
   "cell_type": "markdown",
   "id": "722e2785",
   "metadata": {},
   "source": [
    "This is a condensed version of the project. We are going to load the .pkl file containing the model."
   ]
  },
  {
   "cell_type": "code",
   "execution_count": 1,
   "id": "72b2ace7",
   "metadata": {},
   "outputs": [],
   "source": [
    "import joblib\n",
    "import numpy as np\n",
    "\n",
    "def predict_function(example):\n",
    "    example_string = str(example)\n",
    "    example_array = np.array([example_string])\n",
    "    result = loaded_model.predict(example_array)\n",
    "    return np.array2string(result[0])\n",
    "\n",
    "loaded_model = joblib.load('final_model_pipeline.pkl')"
   ]
  },
  {
   "cell_type": "code",
   "execution_count": 2,
   "id": "a018e695",
   "metadata": {},
   "outputs": [
    {
     "data": {
      "text/plain": [
       "\"'negative'\""
      ]
     },
     "execution_count": 2,
     "metadata": {},
     "output_type": "execute_result"
    }
   ],
   "source": [
    "predict_function('PENSIONARI PĂCĂLIȚI. O pagubă de aproape un milion de lei pentru pensionari')"
   ]
  },
  {
   "cell_type": "code",
   "execution_count": 10,
   "id": "dd5bcedf",
   "metadata": {},
   "outputs": [],
   "source": [
    "from tkinter import *\n",
    "\n",
    "result = ''\n",
    "\n",
    "def button_clicked():\n",
    "    title = e.get()\n",
    "    result = predict_function(title)\n",
    "    colored_result(result)\n",
    "    \n",
    "def display_text(text,color):\n",
    "    result_text = Text(root, height = 1)\n",
    "    result_text.pack()\n",
    "    result_text.insert(\"3.2\",text)\n",
    "    result_text['state'] = 'disabled'\n",
    "    result_text.tag_add(\"start\",1.0,9.0)\n",
    "    result_text.tag_config(\"start\", foreground=color) \n",
    "    \n",
    "def colored_result(result):\n",
    "    if result == \"'neutral'\":\n",
    "        display_text('Neutral','black')\n",
    "    elif result == \"'positive'\":\n",
    "        display_text('Positive','green')\n",
    "    elif result == \"'negative'\":\n",
    "        display_text('Negative','red')\n",
    "    else:\n",
    "        display_text('not working')\n",
    "        \n",
    "root = Tk()\n",
    "root.title(\"INSERT NEWS ARTICLE TITLE\")\n",
    "root.geometry(\"400x200\")\n",
    "\n",
    "text = Text(root, height = 1)\n",
    "text.pack()\n",
    "text.insert(\"1.1\",\"INSERT NEWS ARTICLE TITLE:\")\n",
    "text['state'] = 'disabled'\n",
    "\n",
    "e = Entry(root)\n",
    "e.pack()\n",
    "e.focus_set()\n",
    "\n",
    "button = Button(root,text='OK',command = button_clicked)\n",
    "button.pack()\n",
    "\n",
    "root.mainloop()"
   ]
  },
  {
   "cell_type": "code",
   "execution_count": null,
   "id": "820710d7",
   "metadata": {},
   "outputs": [],
   "source": []
  }
 ],
 "metadata": {
  "kernelspec": {
   "display_name": "Python 3 (ipykernel)",
   "language": "python",
   "name": "python3"
  },
  "language_info": {
   "codemirror_mode": {
    "name": "ipython",
    "version": 3
   },
   "file_extension": ".py",
   "mimetype": "text/x-python",
   "name": "python",
   "nbconvert_exporter": "python",
   "pygments_lexer": "ipython3",
   "version": "3.12.3"
  }
 },
 "nbformat": 4,
 "nbformat_minor": 5
}
